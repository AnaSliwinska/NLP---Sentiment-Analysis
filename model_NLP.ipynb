{
 "cells": [
  {
   "cell_type": "code",
   "execution_count": 1,
   "metadata": {},
   "outputs": [],
   "source": [
    "import pandas as pd\n",
    "import numpy as np\n",
    "\n",
    "import spacy\n",
    "import pl_core_news_md\n",
    "\n",
    "import nltk\n",
    "import string,nltk,re\n",
    "from nltk.tokenize import word_tokenize\n",
    "\n",
    "from sklearn.feature_extraction.text import TfidfVectorizer\n",
    "\n",
    "from scikitplot.estimators import plot_learning_curve\n",
    "from sklearn.model_selection import train_test_split, KFold\n",
    "from sklearn import naive_bayes\n",
    "from sklearn.naive_bayes import GaussianNB\n",
    "from sklearn.metrics import roc_auc_score\n",
    "from sklearn.metrics import mean_absolute_error\n",
    "\n",
    "from sklearn.metrics import classification_report\n",
    "from sklearn.metrics import confusion_matrix\n",
    "\n",
    "\n",
    "import matplotlib.pyplot as plt\n",
    "import scikitplot as skplt\n",
    "%matplotlib inline"
   ]
  },
  {
   "cell_type": "code",
   "execution_count": 2,
   "metadata": {},
   "outputs": [
    {
     "data": {
      "text/html": [
       "<div>\n",
       "<style scoped>\n",
       "    .dataframe tbody tr th:only-of-type {\n",
       "        vertical-align: middle;\n",
       "    }\n",
       "\n",
       "    .dataframe tbody tr th {\n",
       "        vertical-align: top;\n",
       "    }\n",
       "\n",
       "    .dataframe thead th {\n",
       "        text-align: right;\n",
       "    }\n",
       "</style>\n",
       "<table border=\"1\" class=\"dataframe\">\n",
       "  <thead>\n",
       "    <tr style=\"text-align: right;\">\n",
       "      <th></th>\n",
       "      <th>text</th>\n",
       "      <th>stars</th>\n",
       "    </tr>\n",
       "  </thead>\n",
       "  <tbody>\n",
       "    <tr>\n",
       "      <th>0</th>\n",
       "      <td>DM BOŚ obniżył wycenę akcji  do 231 zł</td>\n",
       "      <td>-1</td>\n",
       "    </tr>\n",
       "    <tr>\n",
       "      <th>1</th>\n",
       "      <td>zaprezentuje 30 marca nową strategię</td>\n",
       "      <td>1</td>\n",
       "    </tr>\n",
       "    <tr>\n",
       "      <th>2</th>\n",
       "      <td>Selvita Giełdową Spółką Roku.  zdetronizowany</td>\n",
       "      <td>-1</td>\n",
       "    </tr>\n",
       "    <tr>\n",
       "      <th>3</th>\n",
       "      <td>Giełdowa mizeria  trwa. Notowania blisko roczn...</td>\n",
       "      <td>-1</td>\n",
       "    </tr>\n",
       "    <tr>\n",
       "      <th>4</th>\n",
       "      <td>przesuwa daty publikacji raportów finansowych...</td>\n",
       "      <td>-1</td>\n",
       "    </tr>\n",
       "  </tbody>\n",
       "</table>\n",
       "</div>"
      ],
      "text/plain": [
       "                                                text  stars\n",
       "0             DM BOŚ obniżył wycenę akcji  do 231 zł     -1\n",
       "1               zaprezentuje 30 marca nową strategię      1\n",
       "2      Selvita Giełdową Spółką Roku.  zdetronizowany     -1\n",
       "3  Giełdowa mizeria  trwa. Notowania blisko roczn...     -1\n",
       "4   przesuwa daty publikacji raportów finansowych...     -1"
      ]
     },
     "execution_count": 2,
     "metadata": {},
     "output_type": "execute_result"
    }
   ],
   "source": [
    "df= pd.read_csv(\"sentyment_train_data_AS.csv\")\n",
    "df.head()"
   ]
  },
  {
   "cell_type": "code",
   "execution_count": 3,
   "metadata": {},
   "outputs": [
    {
     "name": "stdout",
     "output_type": "stream",
     "text": [
      "<class 'pandas.core.frame.DataFrame'>\n",
      "RangeIndex: 1309 entries, 0 to 1308\n",
      "Data columns (total 2 columns):\n",
      " #   Column  Non-Null Count  Dtype \n",
      "---  ------  --------------  ----- \n",
      " 0   text    1309 non-null   object\n",
      " 1   stars   1309 non-null   int64 \n",
      "dtypes: int64(1), object(1)\n",
      "memory usage: 20.6+ KB\n"
     ]
    }
   ],
   "source": [
    "df.info()"
   ]
  },
  {
   "cell_type": "markdown",
   "metadata": {},
   "source": [
    "## Raiting"
   ]
  },
  {
   "cell_type": "code",
   "execution_count": 4,
   "metadata": {},
   "outputs": [
    {
     "data": {
      "text/html": [
       "<div>\n",
       "<style scoped>\n",
       "    .dataframe tbody tr th:only-of-type {\n",
       "        vertical-align: middle;\n",
       "    }\n",
       "\n",
       "    .dataframe tbody tr th {\n",
       "        vertical-align: top;\n",
       "    }\n",
       "\n",
       "    .dataframe thead th {\n",
       "        text-align: right;\n",
       "    }\n",
       "</style>\n",
       "<table border=\"1\" class=\"dataframe\">\n",
       "  <thead>\n",
       "    <tr style=\"text-align: right;\">\n",
       "      <th></th>\n",
       "      <th>text</th>\n",
       "      <th>stars</th>\n",
       "      <th>raiting</th>\n",
       "    </tr>\n",
       "  </thead>\n",
       "  <tbody>\n",
       "    <tr>\n",
       "      <th>0</th>\n",
       "      <td>DM BOŚ obniżył wycenę akcji  do 231 zł</td>\n",
       "      <td>-1</td>\n",
       "      <td>-1</td>\n",
       "    </tr>\n",
       "    <tr>\n",
       "      <th>1</th>\n",
       "      <td>zaprezentuje 30 marca nową strategię</td>\n",
       "      <td>1</td>\n",
       "      <td>1</td>\n",
       "    </tr>\n",
       "    <tr>\n",
       "      <th>2</th>\n",
       "      <td>Selvita Giełdową Spółką Roku.  zdetronizowany</td>\n",
       "      <td>-1</td>\n",
       "      <td>-1</td>\n",
       "    </tr>\n",
       "    <tr>\n",
       "      <th>3</th>\n",
       "      <td>Giełdowa mizeria  trwa. Notowania blisko roczn...</td>\n",
       "      <td>-1</td>\n",
       "      <td>-1</td>\n",
       "    </tr>\n",
       "    <tr>\n",
       "      <th>4</th>\n",
       "      <td>przesuwa daty publikacji raportów finansowych...</td>\n",
       "      <td>-1</td>\n",
       "      <td>-1</td>\n",
       "    </tr>\n",
       "  </tbody>\n",
       "</table>\n",
       "</div>"
      ],
      "text/plain": [
       "                                                text  stars  raiting\n",
       "0             DM BOŚ obniżył wycenę akcji  do 231 zł     -1       -1\n",
       "1               zaprezentuje 30 marca nową strategię      1        1\n",
       "2      Selvita Giełdową Spółką Roku.  zdetronizowany     -1       -1\n",
       "3  Giełdowa mizeria  trwa. Notowania blisko roczn...     -1       -1\n",
       "4   przesuwa daty publikacji raportów finansowych...     -1       -1"
      ]
     },
     "execution_count": 4,
     "metadata": {},
     "output_type": "execute_result"
    }
   ],
   "source": [
    "df['raiting'] = df['stars']\n",
    "df.head()"
   ]
  },
  {
   "cell_type": "code",
   "execution_count": 5,
   "metadata": {},
   "outputs": [
    {
     "data": {
      "text/html": [
       "<div>\n",
       "<style scoped>\n",
       "    .dataframe tbody tr th:only-of-type {\n",
       "        vertical-align: middle;\n",
       "    }\n",
       "\n",
       "    .dataframe tbody tr th {\n",
       "        vertical-align: top;\n",
       "    }\n",
       "\n",
       "    .dataframe thead th {\n",
       "        text-align: right;\n",
       "    }\n",
       "</style>\n",
       "<table border=\"1\" class=\"dataframe\">\n",
       "  <thead>\n",
       "    <tr style=\"text-align: right;\">\n",
       "      <th></th>\n",
       "      <th>text</th>\n",
       "      <th>stars</th>\n",
       "      <th>raiting</th>\n",
       "    </tr>\n",
       "  </thead>\n",
       "  <tbody>\n",
       "    <tr>\n",
       "      <th>0</th>\n",
       "      <td>DM BOŚ obniżył wycenę akcji  do 231 zł</td>\n",
       "      <td>-1</td>\n",
       "      <td>0</td>\n",
       "    </tr>\n",
       "    <tr>\n",
       "      <th>1</th>\n",
       "      <td>zaprezentuje 30 marca nową strategię</td>\n",
       "      <td>1</td>\n",
       "      <td>1</td>\n",
       "    </tr>\n",
       "    <tr>\n",
       "      <th>2</th>\n",
       "      <td>Selvita Giełdową Spółką Roku.  zdetronizowany</td>\n",
       "      <td>-1</td>\n",
       "      <td>0</td>\n",
       "    </tr>\n",
       "    <tr>\n",
       "      <th>3</th>\n",
       "      <td>Giełdowa mizeria  trwa. Notowania blisko roczn...</td>\n",
       "      <td>-1</td>\n",
       "      <td>0</td>\n",
       "    </tr>\n",
       "    <tr>\n",
       "      <th>4</th>\n",
       "      <td>przesuwa daty publikacji raportów finansowych...</td>\n",
       "      <td>-1</td>\n",
       "      <td>0</td>\n",
       "    </tr>\n",
       "  </tbody>\n",
       "</table>\n",
       "</div>"
      ],
      "text/plain": [
       "                                                text  stars  raiting\n",
       "0             DM BOŚ obniżył wycenę akcji  do 231 zł     -1        0\n",
       "1               zaprezentuje 30 marca nową strategię      1        1\n",
       "2      Selvita Giełdową Spółką Roku.  zdetronizowany     -1        0\n",
       "3  Giełdowa mizeria  trwa. Notowania blisko roczn...     -1        0\n",
       "4   przesuwa daty publikacji raportów finansowych...     -1        0"
      ]
     },
     "execution_count": 5,
     "metadata": {},
     "output_type": "execute_result"
    }
   ],
   "source": [
    "df['raiting'].replace(-1, 0, inplace=True)\n",
    "df.head()"
   ]
  },
  {
   "cell_type": "code",
   "execution_count": 6,
   "metadata": {},
   "outputs": [
    {
     "name": "stdout",
     "output_type": "stream",
     "text": [
      "<class 'pandas.core.frame.DataFrame'>\n",
      "RangeIndex: 1309 entries, 0 to 1308\n",
      "Data columns (total 3 columns):\n",
      " #   Column   Non-Null Count  Dtype \n",
      "---  ------   --------------  ----- \n",
      " 0   text     1309 non-null   object\n",
      " 1   stars    1309 non-null   int64 \n",
      " 2   raiting  1309 non-null   int64 \n",
      "dtypes: int64(2), object(1)\n",
      "memory usage: 30.8+ KB\n"
     ]
    }
   ],
   "source": [
    "df.info()"
   ]
  },
  {
   "cell_type": "code",
   "execution_count": 7,
   "metadata": {},
   "outputs": [
    {
     "data": {
      "text/plain": [
       "1    916\n",
       "0    393\n",
       "Name: raiting, dtype: int64"
      ]
     },
     "execution_count": 7,
     "metadata": {},
     "output_type": "execute_result"
    }
   ],
   "source": [
    "df['raiting'].value_counts()"
   ]
  },
  {
   "cell_type": "code",
   "execution_count": 8,
   "metadata": {},
   "outputs": [
    {
     "data": {
      "text/plain": [
       "<AxesSubplot:ylabel='raiting'>"
      ]
     },
     "execution_count": 8,
     "metadata": {},
     "output_type": "execute_result"
    },
    {
     "data": {
      "image/png": "[encoded data removed]",
      "text/plain": [
       "<Figure size 432x288 with 1 Axes>"
      ]
     },
     "metadata": {},
     "output_type": "display_data"
    }
   ],
   "source": [
    "df['raiting'].value_counts().plot.pie()"
   ]
  },
  {
   "cell_type": "code",
   "execution_count": 9,
   "metadata": {},
   "outputs": [
    {
     "data": {
      "text/html": [
       "<div>\n",
       "<style scoped>\n",
       "    .dataframe tbody tr th:only-of-type {\n",
       "        vertical-align: middle;\n",
       "    }\n",
       "\n",
       "    .dataframe tbody tr th {\n",
       "        vertical-align: top;\n",
       "    }\n",
       "\n",
       "    .dataframe thead th {\n",
       "        text-align: right;\n",
       "    }\n",
       "</style>\n",
       "<table border=\"1\" class=\"dataframe\">\n",
       "  <thead>\n",
       "    <tr style=\"text-align: right;\">\n",
       "      <th></th>\n",
       "      <th>text</th>\n",
       "      <th>stars</th>\n",
       "      <th>raiting</th>\n",
       "    </tr>\n",
       "  </thead>\n",
       "  <tbody>\n",
       "    <tr>\n",
       "      <th>0</th>\n",
       "      <td>PKN analizuje wpływ brudnej ropy na instalacje...</td>\n",
       "      <td>1</td>\n",
       "      <td>1</td>\n",
       "    </tr>\n",
       "    <tr>\n",
       "      <th>1</th>\n",
       "      <td>Rada wierzycieli Ruchu przychylnie o planie re...</td>\n",
       "      <td>1</td>\n",
       "      <td>1</td>\n",
       "    </tr>\n",
       "    <tr>\n",
       "      <th>2</th>\n",
       "      <td>Fitch: Przejęcie Lotosu neutralne dla ratingu</td>\n",
       "      <td>1</td>\n",
       "      <td>1</td>\n",
       "    </tr>\n",
       "    <tr>\n",
       "      <th>3</th>\n",
       "      <td>Trigon DM podwyższył rekomendację Lotosu do ku...</td>\n",
       "      <td>1</td>\n",
       "      <td>1</td>\n",
       "    </tr>\n",
       "    <tr>\n",
       "      <th>4</th>\n",
       "      <td>Aviation chce zbudować skład paliw na lotnisk...</td>\n",
       "      <td>1</td>\n",
       "      <td>1</td>\n",
       "    </tr>\n",
       "  </tbody>\n",
       "</table>\n",
       "</div>"
      ],
      "text/plain": [
       "                                                text  stars  raiting\n",
       "0  PKN analizuje wpływ brudnej ropy na instalacje...      1        1\n",
       "1  Rada wierzycieli Ruchu przychylnie o planie re...      1        1\n",
       "2     Fitch: Przejęcie Lotosu neutralne dla ratingu       1        1\n",
       "3  Trigon DM podwyższył rekomendację Lotosu do ku...      1        1\n",
       "4   Aviation chce zbudować skład paliw na lotnisk...      1        1"
      ]
     },
     "execution_count": 9,
     "metadata": {},
     "output_type": "execute_result"
    }
   ],
   "source": [
    "df = df.sort_values(['raiting'], ascending=False, ignore_index=True)\n",
    "df.head()"
   ]
  },
  {
   "cell_type": "code",
   "execution_count": 10,
   "metadata": {},
   "outputs": [],
   "source": [
    "df = df.drop(df.index[:523])"
   ]
  },
  {
   "cell_type": "code",
   "execution_count": 11,
   "metadata": {},
   "outputs": [
    {
     "data": {
      "text/plain": [
       "<AxesSubplot:ylabel='raiting'>"
      ]
     },
     "execution_count": 11,
     "metadata": {},
     "output_type": "execute_result"
    },
    {
     "data": {
      "image/png": "[encoded data removed]",
      "text/plain": [
       "<Figure size 432x288 with 1 Axes>"
      ]
     },
     "metadata": {},
     "output_type": "display_data"
    }
   ],
   "source": [
    "df['raiting'].value_counts().plot.pie()"
   ]
  },
  {
   "cell_type": "code",
   "execution_count": 12,
   "metadata": {},
   "outputs": [
    {
     "data": {
      "text/plain": [
       "1    393\n",
       "0    393\n",
       "Name: raiting, dtype: int64"
      ]
     },
     "execution_count": 12,
     "metadata": {},
     "output_type": "execute_result"
    }
   ],
   "source": [
    "df['raiting'].value_counts()"
   ]
  },
  {
   "cell_type": "markdown",
   "metadata": {},
   "source": [
    "## Clean and preprocessing text data"
   ]
  },
  {
   "cell_type": "code",
   "execution_count": 13,
   "metadata": {},
   "outputs": [],
   "source": [
    "nlp = pl_core_news_md.load()"
   ]
  },
  {
   "cell_type": "code",
   "execution_count": 14,
   "metadata": {},
   "outputs": [],
   "source": [
    "text = 'jestem, byłam, będę, zostałam papieżem'"
   ]
  },
  {
   "cell_type": "code",
   "execution_count": 15,
   "metadata": {},
   "outputs": [
    {
     "name": "stdout",
     "output_type": "stream",
     "text": [
      "jestem, byłam, będę, zostałam papieżem\n"
     ]
    }
   ],
   "source": [
    "doc = nlp(text)\n",
    "print(doc)"
   ]
  },
  {
   "cell_type": "code",
   "execution_count": 16,
   "metadata": {},
   "outputs": [
    {
     "name": "stdout",
     "output_type": "stream",
     "text": [
      "jestem 16756628963928444993 być\n",
      ", 2593208677638477497 ,\n",
      "byłam 16756628963928444993 być\n",
      ", 2593208677638477497 ,\n",
      "będę 14730050699322248679 będę\n",
      ", 2593208677638477497 ,\n",
      "zostałam 14711605111751778545 zostać\n",
      "papieżem 884425083588738853 papież\n"
     ]
    }
   ],
   "source": [
    "for token in doc:\n",
    "    print(token, token.lemma, token.lemma_)"
   ]
  },
  {
   "cell_type": "code",
   "execution_count": 17,
   "metadata": {},
   "outputs": [
    {
     "data": {
      "text/plain": [
       "523    GPW: 25 października 2017 r. odbędzie się osta...\n",
       "524    PKN liczy  że w całym '17 marża downstream będ...\n",
       "525    Przejęcie kontroli nad Unipetrolem bez wpływu ...\n",
       "526               Latem auta elektryczne zatankują na ie\n",
       "527       KNF zatwierdziła aneks do prospektu obligacji \n",
       "Name: text, dtype: object"
      ]
     },
     "execution_count": 17,
     "metadata": {},
     "output_type": "execute_result"
    }
   ],
   "source": [
    "df['text'].head()"
   ]
  },
  {
   "cell_type": "code",
   "execution_count": 18,
   "metadata": {},
   "outputs": [
    {
     "data": {
      "text/plain": [
       "523    GPW 25 października 2017 r odbędzie się ostatn...\n",
       "524    PKN liczy  że w całym 17 marża downstream będz...\n",
       "525    Przejęcie kontroli nad Unipetrolem bez wpływu ...\n",
       "526               Latem auta elektryczne zatankują na ie\n",
       "527       KNF zatwierdziła aneks do prospektu obligacji \n",
       "Name: new_text, dtype: object"
      ]
     },
     "execution_count": 18,
     "metadata": {},
     "output_type": "execute_result"
    }
   ],
   "source": [
    "df['new_text'] = df['text'].str.replace('[^\\w\\s]','')\n",
    "df['new_text'].head()"
   ]
  },
  {
   "cell_type": "code",
   "execution_count": 19,
   "metadata": {},
   "outputs": [],
   "source": [
    "def clean_text(text):\n",
    "    doc = nlp(text)\n",
    "    lemma_list=[]\n",
    "    for token in doc:\n",
    "        lemma_list.append(token.lemma_)\n",
    "\n",
    "    return lemma_list"
   ]
  },
  {
   "cell_type": "code",
   "execution_count": 20,
   "metadata": {},
   "outputs": [
    {
     "data": {
      "text/html": [
       "<div>\n",
       "<style scoped>\n",
       "    .dataframe tbody tr th:only-of-type {\n",
       "        vertical-align: middle;\n",
       "    }\n",
       "\n",
       "    .dataframe tbody tr th {\n",
       "        vertical-align: top;\n",
       "    }\n",
       "\n",
       "    .dataframe thead th {\n",
       "        text-align: right;\n",
       "    }\n",
       "</style>\n",
       "<table border=\"1\" class=\"dataframe\">\n",
       "  <thead>\n",
       "    <tr style=\"text-align: right;\">\n",
       "      <th></th>\n",
       "      <th>text</th>\n",
       "      <th>stars</th>\n",
       "      <th>raiting</th>\n",
       "      <th>new_text</th>\n",
       "    </tr>\n",
       "  </thead>\n",
       "  <tbody>\n",
       "    <tr>\n",
       "      <th>523</th>\n",
       "      <td>GPW: 25 października 2017 r. odbędzie się osta...</td>\n",
       "      <td>1</td>\n",
       "      <td>1</td>\n",
       "      <td>[gpw, 25, październik, 2017, r, odbyć, się, os...</td>\n",
       "    </tr>\n",
       "    <tr>\n",
       "      <th>524</th>\n",
       "      <td>PKN liczy  że w całym '17 marża downstream będ...</td>\n",
       "      <td>1</td>\n",
       "      <td>1</td>\n",
       "      <td>[pkn, liczyć,  , że, w, cały, 17, marża, downs...</td>\n",
       "    </tr>\n",
       "    <tr>\n",
       "      <th>525</th>\n",
       "      <td>Przejęcie kontroli nad Unipetrolem bez wpływu ...</td>\n",
       "      <td>1</td>\n",
       "      <td>1</td>\n",
       "      <td>[przejęcie, kontrola, nad, unipetrolem, bez, w...</td>\n",
       "    </tr>\n",
       "    <tr>\n",
       "      <th>526</th>\n",
       "      <td>Latem auta elektryczne zatankują na ie</td>\n",
       "      <td>1</td>\n",
       "      <td>1</td>\n",
       "      <td>[lato, auto, elektryczny, zatankować, na, ie]</td>\n",
       "    </tr>\n",
       "    <tr>\n",
       "      <th>527</th>\n",
       "      <td>KNF zatwierdziła aneks do prospektu obligacji</td>\n",
       "      <td>1</td>\n",
       "      <td>1</td>\n",
       "      <td>[knf, zatwierdzić, aneks, do, prospekt, obliga...</td>\n",
       "    </tr>\n",
       "  </tbody>\n",
       "</table>\n",
       "</div>"
      ],
      "text/plain": [
       "                                                  text  stars  raiting  \\\n",
       "523  GPW: 25 października 2017 r. odbędzie się osta...      1        1   \n",
       "524  PKN liczy  że w całym '17 marża downstream będ...      1        1   \n",
       "525  Przejęcie kontroli nad Unipetrolem bez wpływu ...      1        1   \n",
       "526             Latem auta elektryczne zatankują na ie      1        1   \n",
       "527     KNF zatwierdziła aneks do prospektu obligacji       1        1   \n",
       "\n",
       "                                              new_text  \n",
       "523  [gpw, 25, październik, 2017, r, odbyć, się, os...  \n",
       "524  [pkn, liczyć,  , że, w, cały, 17, marża, downs...  \n",
       "525  [przejęcie, kontrola, nad, unipetrolem, bez, w...  \n",
       "526      [lato, auto, elektryczny, zatankować, na, ie]  \n",
       "527  [knf, zatwierdzić, aneks, do, prospekt, obliga...  "
      ]
     },
     "execution_count": 20,
     "metadata": {},
     "output_type": "execute_result"
    }
   ],
   "source": [
    "df['new_text'] = df['new_text'].apply(clean_text)\n",
    "df.head()"
   ]
  },
  {
   "cell_type": "code",
   "execution_count": 21,
   "metadata": {},
   "outputs": [
    {
     "data": {
      "text/plain": [
       "523    gpw,25,październik,2017,r,odbyć,się,ostatni,dz...\n",
       "524    pkn,liczyć, ,że,w,cały,17,marża,downstream,będ...\n",
       "525    przejęcie,kontrola,nad,unipetrolem,bez,wpływ,n...\n",
       "526               lato,auto,elektryczny,zatankować,na,ie\n",
       "527          knf,zatwierdzić,aneks,do,prospekt,obligacja\n",
       "Name: liststring, dtype: object"
      ]
     },
     "execution_count": 21,
     "metadata": {},
     "output_type": "execute_result"
    }
   ],
   "source": [
    "df['liststring'] = df['new_text'].apply(lambda x: ','.join(map(str, x)))\n",
    "df['liststring'].head()"
   ]
  },
  {
   "cell_type": "code",
   "execution_count": 22,
   "metadata": {},
   "outputs": [
    {
     "data": {
      "text/plain": [
       "523    gpw 25 październik 2017 r odbyć się ostatni dz...\n",
       "524    pkn liczyć   że w cały 17 marża downstream będ...\n",
       "525    przejęcie kontrola nad unipetrolem bez wpływ n...\n",
       "526               lato auto elektryczny zatankować na ie\n",
       "527          knf zatwierdzić aneks do prospekt obligacja\n",
       "Name: new_text2, dtype: object"
      ]
     },
     "execution_count": 22,
     "metadata": {},
     "output_type": "execute_result"
    }
   ],
   "source": [
    "df['new_text2'] = df['liststring'].str.replace('[^\\w\\s]',' ')\n",
    "df['new_text2'].head()"
   ]
  },
  {
   "cell_type": "markdown",
   "metadata": {},
   "source": [
    "## Polish stopwords"
   ]
  },
  {
   "cell_type": "code",
   "execution_count": 23,
   "metadata": {},
   "outputs": [
    {
     "data": {
      "text/html": [
       "<div>\n",
       "<style scoped>\n",
       "    .dataframe tbody tr th:only-of-type {\n",
       "        vertical-align: middle;\n",
       "    }\n",
       "\n",
       "    .dataframe tbody tr th {\n",
       "        vertical-align: top;\n",
       "    }\n",
       "\n",
       "    .dataframe thead th {\n",
       "        text-align: right;\n",
       "    }\n",
       "</style>\n",
       "<table border=\"1\" class=\"dataframe\">\n",
       "  <thead>\n",
       "    <tr style=\"text-align: right;\">\n",
       "      <th></th>\n",
       "      <th>id</th>\n",
       "      <th>stopwords</th>\n",
       "    </tr>\n",
       "  </thead>\n",
       "  <tbody>\n",
       "    <tr>\n",
       "      <th>0</th>\n",
       "      <td>1</td>\n",
       "      <td>aby</td>\n",
       "    </tr>\n",
       "    <tr>\n",
       "      <th>1</th>\n",
       "      <td>2</td>\n",
       "      <td>ach</td>\n",
       "    </tr>\n",
       "    <tr>\n",
       "      <th>2</th>\n",
       "      <td>3</td>\n",
       "      <td>acz</td>\n",
       "    </tr>\n",
       "    <tr>\n",
       "      <th>3</th>\n",
       "      <td>4</td>\n",
       "      <td>aczkolwiek</td>\n",
       "    </tr>\n",
       "    <tr>\n",
       "      <th>4</th>\n",
       "      <td>5</td>\n",
       "      <td>aj</td>\n",
       "    </tr>\n",
       "  </tbody>\n",
       "</table>\n",
       "</div>"
      ],
      "text/plain": [
       "   id   stopwords\n",
       "0   1         aby\n",
       "1   2         ach\n",
       "2   3         acz\n",
       "3   4  aczkolwiek\n",
       "4   5          aj"
      ]
     },
     "execution_count": 23,
     "metadata": {},
     "output_type": "execute_result"
    }
   ],
   "source": [
    "stopwords = pd.read_csv(\"stopwords.csv\")\n",
    "stopwords.head()"
   ]
  },
  {
   "cell_type": "code",
   "execution_count": 24,
   "metadata": {},
   "outputs": [
    {
     "name": "stdout",
     "output_type": "stream",
     "text": [
      "['aby', 'ach', 'acz', 'aczkolwiek', 'aj', 'albo', 'ale', 'alez', 'ależ', 'ani', 'az', 'aż', 'bardziej', 'bardzo', 'beda', 'bedzie', 'bez', 'deda', 'będą', 'bede', 'będę', 'będzie', 'bo', 'bowiem', 'by', 'byc', 'być', 'byl', 'byla', 'byli', 'bylo', 'byly', 'był', 'była', 'było', 'były', 'bynajmniej', 'cala', 'cali', 'caly', 'cała', 'cały', 'ci', 'cie', 'ciebie', 'cię', 'co', 'cokolwiek', 'cos', 'coś', 'czasami', 'czasem', 'czemu', 'czy', 'czyli', 'daleko', 'dla', 'dlaczego', 'dlatego', 'do', 'dobrze', 'dokad', 'dokąd', 'dosc', 'dość', 'duzo', 'dużo', 'dwa', 'dwaj', 'dwie', 'dwoje', 'dzis', 'dzisiaj', 'dziś', 'gdy', 'gdyby', 'gdyz', 'gdyż', 'gdzie', 'gdziekolwiek', 'gdzies', 'gdzieś', 'go', 'i', 'ich', 'ile', 'im', 'inna', 'inne', 'inny', 'innych', 'iz', 'iż', 'ja', 'jak', 'jakas', 'jakaś', 'jakby', 'jaki', 'jakichs', 'jakichś', 'jakie', 'jakis', 'jakiś', 'jakiz', 'jakiż', 'jakkolwiek', 'jako', 'jakos', 'jakoś', 'ją', 'je', 'jeden', 'jedna', 'jednak', 'jednakze', 'jednakże', 'jedno', 'jego', 'jej', 'jemu', 'jesli', 'jest', 'jestem', 'jeszcze', 'jeśli', 'jezeli', 'jeżeli', 'juz', 'już', 'kazdy', 'każdy', 'kiedy', 'kilka', 'kims', 'kimś', 'kto', 'ktokolwiek', 'ktora', 'ktore', 'ktorego', 'ktorej', 'ktory', 'ktorych', 'ktorym', 'ktorzy', 'ktos', 'ktoś', 'która', 'które', 'którego', 'której', 'który', 'których', 'którym', 'którzy', 'ku', 'lat', 'lecz', 'lub', 'ma', 'mają', 'mało', 'mam', 'mi', 'miedzy', 'między', 'mimo', 'mna', 'mną', 'mnie', 'moga', 'mogą', 'moi', 'moim', 'moj', 'moja', 'moje', 'moze', 'mozliwe', 'mozna', 'może', 'możliwe', 'można', 'mój', 'mu', 'musi', 'my', 'na', 'nad', 'nam', 'nami', 'nas', 'nasi', 'nasz', 'nasza', 'nasze', 'naszego', 'naszych', 'natomiast', 'natychmiast', 'nawet', 'nia', 'nią', 'nic', 'nich', 'niech', 'niego', 'niej', 'niemu', 'nigdy', 'nim', 'nimi', 'niz', 'niż', 'no', 'o', 'obok', 'od', 'około', 'on', 'ona', 'one', 'oni', 'ono', 'oraz', 'oto', 'owszem', 'pan', 'pana', 'pani', 'po', 'pod', 'podczas', 'pomimo', 'ponad', 'poniewaz', 'ponieważ', 'powinien', 'powinna', 'powinni', 'powinno', 'poza', 'prawie', 'przeciez', 'przecież', 'przed', 'przede', 'przedtem', 'przez', 'przy', 'roku', 'rowniez', 'również', 'sam', 'sama', 'są', 'sie', 'się', 'skad', 'skąd', 'soba', 'sobą', 'sobie', 'sposob', 'sposób', 'swoje', 'ta', 'tak', 'taka', 'taki', 'takie', 'takze', 'także', 'tam', 'te', 'tego', 'tej', 'ten', 'teraz', 'też', 'to', 'toba', 'tobą', 'tobie', 'totez', 'toteż', 'totobą', 'trzeba', 'tu', 'tutaj', 'twoi', 'twoim', 'twoj', 'twoja', 'twoje', 'twój', 'twym', 'ty', 'tych', 'tylko', 'tym', 'u', 'w', 'wam', 'wami', 'was', 'wasz', 'wasza', 'wasze', 'we', 'według', 'wiele', 'wielu', 'więc', 'więcej', 'wlasnie', 'właśnie', 'wszyscy', 'wszystkich', 'wszystkie', 'wszystkim', 'wszystko', 'wtedy', 'wy', 'z', 'za', 'zaden', 'zadna', 'zadne', 'zadnych', 'zapewne', 'zawsze', 'ze', 'zeby', 'zeznowu', 'zł', 'znow', 'znowu', 'znów', 'zostal', 'został', 'żaden', 'żadna', 'żadne', 'żadnych', 'że', 'żeby']\n"
     ]
    }
   ],
   "source": [
    "stopset = stopwords['stopwords'].tolist()\n",
    "print(stopset)"
   ]
  },
  {
   "cell_type": "markdown",
   "metadata": {},
   "source": [
    "## Counting the Frequency of words in a pandas data frame"
   ]
  },
  {
   "cell_type": "code",
   "execution_count": 25,
   "metadata": {},
   "outputs": [],
   "source": [
    "top_N = 100"
   ]
  },
  {
   "cell_type": "code",
   "execution_count": 26,
   "metadata": {},
   "outputs": [],
   "source": [
    "a = df['new_text2'].str.cat(sep=' ')"
   ]
  },
  {
   "cell_type": "code",
   "execution_count": 27,
   "metadata": {},
   "outputs": [],
   "source": [
    "words = nltk.tokenize.word_tokenize(a)\n",
    "word_dist = nltk.FreqDist(words)"
   ]
  },
  {
   "cell_type": "code",
   "execution_count": 28,
   "metadata": {},
   "outputs": [],
   "source": [
    "rslt = pd.DataFrame(word_dist.most_common(top_N),\n",
    "                    columns=['Word', 'Frequency'])"
   ]
  },
  {
   "cell_type": "code",
   "execution_count": 29,
   "metadata": {},
   "outputs": [
    {
     "name": "stdout",
     "output_type": "stream",
     "text": [
      "        Word  Frequency\n",
      "0          w        315\n",
      "1         na        207\n",
      "2         do        187\n",
      "3          z        147\n",
      "4          i        115\n",
      "..       ...        ...\n",
      "95   wartość         12\n",
      "96      opis         11\n",
      "97      ciąg         11\n",
      "98  wiatrowy         11\n",
      "99    Bałtyk         11\n",
      "\n",
      "[100 rows x 2 columns]\n"
     ]
    }
   ],
   "source": [
    "print(rslt)"
   ]
  },
  {
   "cell_type": "code",
   "execution_count": 30,
   "metadata": {},
   "outputs": [
    {
     "name": "stdout",
     "output_type": "stream",
     "text": [
      "['w', 'na', 'do', 'z', 'i', 'zł', 'u', 'o', 'marża', 'lotos', 'akcja', 'nie', 'obajtek', 'mln', 'za', 'mld', 'ropa', 'dla', 'cena', 'cyberpunk', 'chcieć', 'od', 'być', 'mieć', 'dm', '2077', 'stacja', 'projekt', 'się', 'downstream', 'rok', 'paliwo', 'spółka', 'prezes', 'rekomendacja', 'przejęcie', 'sprzedaż', 'baryłka', 'proc', 'spaść', 'instalacja', 'usd', 'fuzja', 'ws', 'energi', 'obniżyć', 'po', 'ke', 'r', 'kw', 'ostrołęka', 'koniec', 'kwartał', 'pgnig', 'wzrość', 'grupa', 'obligacja', 'że', '1', 'budowa', 'docelowy', 'rozpocząć', 'nowy', 'ok', 'umowa', 'gra', 'obniżać', 'kolejny', 'zysk', 'pierwszy', 'wezwanie', 'sprzedać', 'to', 'inwestycja', '20', 'boś', 'spadek', 'móc', 'państwo', 'rafineryjny', 'farma', 'zakup', 'płyn', 'termin', 'dywidenda', 'c', 'będzie', 'nad', 'Płocko', 'Polska', 'dezynfekcja', 'pkn', 'liczyć', '17', 'wysoki', 'wartość', 'opis', 'ciąg', 'wiatrowy', 'Bałtyk']\n"
     ]
    }
   ],
   "source": [
    "FreqDist = rslt['Word'].tolist()\n",
    "print(FreqDist)"
   ]
  },
  {
   "cell_type": "code",
   "execution_count": 31,
   "metadata": {},
   "outputs": [
    {
     "name": "stdout",
     "output_type": "stream",
     "text": [
      "['obajtek', 'lotos', 'cyberpunk', '2077', '19', '17', '18', 'unipetrolu', 'pkn', '1', 'Polska', 'Płocko', 'pgnig', 'usd']\n"
     ]
    }
   ],
   "source": [
    "newStopWords = ['obajtek', 'lotos', 'cyberpunk', '2077', '19', '17', '18', 'unipetrolu', 'pkn', '1', \n",
    "                'Polska', 'Płocko', 'pgnig', 'usd']\n",
    "print(newStopWords)"
   ]
  },
  {
   "cell_type": "markdown",
   "metadata": {},
   "source": [
    "## New stopwords"
   ]
  },
  {
   "cell_type": "code",
   "execution_count": 32,
   "metadata": {},
   "outputs": [
    {
     "name": "stdout",
     "output_type": "stream",
     "text": [
      "['aby', 'ach', 'acz', 'aczkolwiek', 'aj', 'albo', 'ale', 'alez', 'ależ', 'ani', 'az', 'aż', 'bardziej', 'bardzo', 'beda', 'bedzie', 'bez', 'deda', 'będą', 'bede', 'będę', 'będzie', 'bo', 'bowiem', 'by', 'byc', 'być', 'byl', 'byla', 'byli', 'bylo', 'byly', 'był', 'była', 'było', 'były', 'bynajmniej', 'cala', 'cali', 'caly', 'cała', 'cały', 'ci', 'cie', 'ciebie', 'cię', 'co', 'cokolwiek', 'cos', 'coś', 'czasami', 'czasem', 'czemu', 'czy', 'czyli', 'daleko', 'dla', 'dlaczego', 'dlatego', 'do', 'dobrze', 'dokad', 'dokąd', 'dosc', 'dość', 'duzo', 'dużo', 'dwa', 'dwaj', 'dwie', 'dwoje', 'dzis', 'dzisiaj', 'dziś', 'gdy', 'gdyby', 'gdyz', 'gdyż', 'gdzie', 'gdziekolwiek', 'gdzies', 'gdzieś', 'go', 'i', 'ich', 'ile', 'im', 'inna', 'inne', 'inny', 'innych', 'iz', 'iż', 'ja', 'jak', 'jakas', 'jakaś', 'jakby', 'jaki', 'jakichs', 'jakichś', 'jakie', 'jakis', 'jakiś', 'jakiz', 'jakiż', 'jakkolwiek', 'jako', 'jakos', 'jakoś', 'ją', 'je', 'jeden', 'jedna', 'jednak', 'jednakze', 'jednakże', 'jedno', 'jego', 'jej', 'jemu', 'jesli', 'jest', 'jestem', 'jeszcze', 'jeśli', 'jezeli', 'jeżeli', 'juz', 'już', 'kazdy', 'każdy', 'kiedy', 'kilka', 'kims', 'kimś', 'kto', 'ktokolwiek', 'ktora', 'ktore', 'ktorego', 'ktorej', 'ktory', 'ktorych', 'ktorym', 'ktorzy', 'ktos', 'ktoś', 'która', 'które', 'którego', 'której', 'który', 'których', 'którym', 'którzy', 'ku', 'lat', 'lecz', 'lub', 'ma', 'mają', 'mało', 'mam', 'mi', 'miedzy', 'między', 'mimo', 'mna', 'mną', 'mnie', 'moga', 'mogą', 'moi', 'moim', 'moj', 'moja', 'moje', 'moze', 'mozliwe', 'mozna', 'może', 'możliwe', 'można', 'mój', 'mu', 'musi', 'my', 'na', 'nad', 'nam', 'nami', 'nas', 'nasi', 'nasz', 'nasza', 'nasze', 'naszego', 'naszych', 'natomiast', 'natychmiast', 'nawet', 'nia', 'nią', 'nic', 'nich', 'niech', 'niego', 'niej', 'niemu', 'nigdy', 'nim', 'nimi', 'niz', 'niż', 'no', 'o', 'obok', 'od', 'około', 'on', 'ona', 'one', 'oni', 'ono', 'oraz', 'oto', 'owszem', 'pan', 'pana', 'pani', 'po', 'pod', 'podczas', 'pomimo', 'ponad', 'poniewaz', 'ponieważ', 'powinien', 'powinna', 'powinni', 'powinno', 'poza', 'prawie', 'przeciez', 'przecież', 'przed', 'przede', 'przedtem', 'przez', 'przy', 'roku', 'rowniez', 'również', 'sam', 'sama', 'są', 'sie', 'się', 'skad', 'skąd', 'soba', 'sobą', 'sobie', 'sposob', 'sposób', 'swoje', 'ta', 'tak', 'taka', 'taki', 'takie', 'takze', 'także', 'tam', 'te', 'tego', 'tej', 'ten', 'teraz', 'też', 'to', 'toba', 'tobą', 'tobie', 'totez', 'toteż', 'totobą', 'trzeba', 'tu', 'tutaj', 'twoi', 'twoim', 'twoj', 'twoja', 'twoje', 'twój', 'twym', 'ty', 'tych', 'tylko', 'tym', 'u', 'w', 'wam', 'wami', 'was', 'wasz', 'wasza', 'wasze', 'we', 'według', 'wiele', 'wielu', 'więc', 'więcej', 'wlasnie', 'właśnie', 'wszyscy', 'wszystkich', 'wszystkie', 'wszystkim', 'wszystko', 'wtedy', 'wy', 'z', 'za', 'zaden', 'zadna', 'zadne', 'zadnych', 'zapewne', 'zawsze', 'ze', 'zeby', 'zeznowu', 'zł', 'znow', 'znowu', 'znów', 'zostal', 'został', 'żaden', 'żadna', 'żadne', 'żadnych', 'że', 'żeby', 'obajtek', 'lotos', 'cyberpunk', '2077', '19', '17', '18', 'unipetrolu', 'pkn', '1', 'Polska', 'Płocko', 'pgnig', 'usd']\n"
     ]
    }
   ],
   "source": [
    "newstopset = stopset + newStopWords\n",
    "print(newstopset)"
   ]
  },
  {
   "cell_type": "markdown",
   "metadata": {},
   "source": [
    "## Text Vectorization"
   ]
  },
  {
   "cell_type": "code",
   "execution_count": 33,
   "metadata": {},
   "outputs": [],
   "source": [
    "vectorizer = TfidfVectorizer(use_idf=True, lowercase=True, strip_accents='ascii', stop_words=newstopset)"
   ]
  },
  {
   "cell_type": "code",
   "execution_count": 34,
   "metadata": {},
   "outputs": [],
   "source": [
    "y = df['raiting']"
   ]
  },
  {
   "cell_type": "code",
   "execution_count": 35,
   "metadata": {},
   "outputs": [
    {
     "name": "stderr",
     "output_type": "stream",
     "text": [
      "/home/anna_s/anaconda3/lib/python3.8/site-packages/sklearn/feature_extraction/text.py:383: UserWarning: Your stop_words may be inconsistent with your preprocessing. Tokenizing the stop words generated tokens ['bya', 'byo', 'byy', 'caa', 'cay', 'maja', 'mao', 'okoo', 'pocko', 'polska', 'sa', 'tez', 'totoba', 'wasnie', 'wedug', 'wiec', 'wiecej', 'zosta'] not in stop_words.\n",
      "  warnings.warn('Your stop_words may be inconsistent with '\n"
     ]
    }
   ],
   "source": [
    "X = vectorizer.fit_transform(df.new_text2)"
   ]
  },
  {
   "cell_type": "code",
   "execution_count": 36,
   "metadata": {},
   "outputs": [],
   "source": [
    "X_train, X_test, y_train, y_test = train_test_split(X, y, test_size=0.3, random_state=2021)"
   ]
  },
  {
   "cell_type": "markdown",
   "metadata": {},
   "source": [
    "## Naive Bayes"
   ]
  },
  {
   "cell_type": "code",
   "execution_count": 37,
   "metadata": {},
   "outputs": [
    {
     "data": {
      "text/plain": [
       "MultinomialNB()"
      ]
     },
     "execution_count": 37,
     "metadata": {},
     "output_type": "execute_result"
    }
   ],
   "source": [
    "clf = naive_bayes.MultinomialNB()\n",
    "clf.fit(X_train, y_train)"
   ]
  },
  {
   "cell_type": "code",
   "execution_count": 38,
   "metadata": {},
   "outputs": [],
   "source": [
    "predict = clf.predict(X_test)"
   ]
  },
  {
   "cell_type": "code",
   "execution_count": 39,
   "metadata": {},
   "outputs": [
    {
     "name": "stdout",
     "output_type": "stream",
     "text": [
      "              precision    recall  f1-score   support\n",
      "\n",
      "           0       0.75      0.74      0.75       115\n",
      "           1       0.76      0.77      0.76       121\n",
      "\n",
      "    accuracy                           0.75       236\n",
      "   macro avg       0.75      0.75      0.75       236\n",
      "weighted avg       0.75      0.75      0.75       236\n",
      "\n"
     ]
    }
   ],
   "source": [
    "print(classification_report(y_test, predict))"
   ]
  },
  {
   "cell_type": "code",
   "execution_count": 40,
   "metadata": {},
   "outputs": [
    {
     "data": {
      "text/plain": [
       "array([[85, 30],\n",
       "       [28, 93]])"
      ]
     },
     "execution_count": 40,
     "metadata": {},
     "output_type": "execute_result"
    }
   ],
   "source": [
    "confusion_matrix(y_test, predict)"
   ]
  },
  {
   "cell_type": "code",
   "execution_count": 41,
   "metadata": {},
   "outputs": [
    {
     "data": {
      "text/plain": [
       "0.8369385555156307"
      ]
     },
     "execution_count": 41,
     "metadata": {},
     "output_type": "execute_result"
    }
   ],
   "source": [
    "scoring = roc_auc_score(y_test, clf.predict_proba(X_test)[:, 1])\n",
    "scoring"
   ]
  },
  {
   "cell_type": "code",
   "execution_count": 42,
   "metadata": {},
   "outputs": [
    {
     "name": "stdout",
     "output_type": "stream",
     "text": [
      "[0.6096302  0.60903072 0.25574327 0.16035002 0.43307763 0.54112775\n",
      " 0.46366691 0.39293192 0.68897034 0.56092808 0.54088857 0.46228845\n",
      " 0.62494907 0.3468155  0.3571752  0.58321902 0.49317725 0.65169367\n",
      " 0.25071964 0.49378813 0.48964302 0.35944117 0.38548676 0.49261634\n",
      " 0.77068829 0.56386151 0.59312013 0.59626439 0.6678831  0.39628625\n",
      " 0.28530607 0.91657526 0.12003726 0.34321495 0.45846545 0.48620642\n",
      " 0.56040512 0.52597451 0.66611375 0.652445   0.17113576 0.35721415\n",
      " 0.48202529 0.59848893 0.34404398 0.55727538 0.81696781 0.60146717\n",
      " 0.73510444 0.48664613 0.38782731 0.80749752 0.50028055 0.54260455\n",
      " 0.4194744  0.39294953 0.6168263  0.27748823 0.49670799 0.72234924\n",
      " 0.55444369 0.7303678  0.64662295 0.45336314 0.26653591 0.63319293\n",
      " 0.23300356 0.50683021 0.79424146 0.56721118 0.28819956 0.38658554\n",
      " 0.17246586 0.70753908 0.6564243  0.53408671 0.62094127 0.63162788\n",
      " 0.59460387 0.65061597 0.38812409 0.71365906 0.50131893 0.30817006\n",
      " 0.37026653 0.64111328 0.47911879 0.1035464  0.43071989 0.56814805\n",
      " 0.54320046 0.58100373 0.38993758 0.36348807 0.52868072 0.13806359\n",
      " 0.31603535 0.52056726 0.68348021 0.12761846 0.36215697 0.55504145\n",
      " 0.62212067 0.48445999 0.53321787 0.61450226 0.3872621  0.50636788\n",
      " 0.66955552 0.1462621  0.66144209 0.56865938 0.6492843  0.7248091\n",
      " 0.59212059 0.22161661 0.31365897 0.11248469 0.49147772 0.22333939\n",
      " 0.37931465 0.4117419  0.68354468 0.5297745  0.64835255 0.21771535\n",
      " 0.13977434 0.36085274 0.66639216 0.38707547 0.55979865 0.35369525\n",
      " 0.31081449 0.4369791  0.79715381 0.48857746 0.49543961 0.64286426\n",
      " 0.52395351 0.33995365 0.61954448 0.28634513 0.25091362 0.77101189\n",
      " 0.79142785 0.19627243 0.29281635 0.45333888 0.80943942 0.8538023\n",
      " 0.4717615  0.53294612 0.5336143  0.61090248 0.53020967 0.48535734\n",
      " 0.48000394 0.508241   0.5531565  0.59301129 0.72239236 0.3437862\n",
      " 0.68354468 0.49807693 0.73331532 0.73582365 0.64189225 0.62659442\n",
      " 0.64287947 0.59626439 0.78921357 0.46977107 0.67226775 0.10779377\n",
      " 0.20731431 0.30494571 0.41833621 0.66776218 0.21062524 0.60104619\n",
      " 0.58420531 0.87924943 0.52989569 0.35093486 0.66591317 0.30877425\n",
      " 0.35409687 0.86956715 0.72319911 0.35509441 0.53395742 0.86410131\n",
      " 0.49719113 0.81929612 0.26978254 0.37499441 0.425496   0.33504339\n",
      " 0.42687615 0.58114327 0.76519286 0.77417398 0.2396514  0.54227189\n",
      " 0.49891078 0.48955722 0.57604652 0.47957499 0.54919208 0.65121273\n",
      " 0.48472676 0.14736444 0.56871372 0.17925289 0.20041743 0.34132187\n",
      " 0.51995103 0.20258619 0.58675041 0.65842989 0.33269753 0.43583003\n",
      " 0.71442937 0.41999157 0.52214973 0.80282252 0.7325593  0.56749652\n",
      " 0.5656198  0.22369837 0.3903634  0.54265537 0.29694265 0.74899564\n",
      " 0.47240533 0.49796893]\n"
     ]
    }
   ],
   "source": [
    "predict_prob = clf.predict_proba(X_test)[:,1]\n",
    "print(predict_prob)"
   ]
  },
  {
   "cell_type": "code",
   "execution_count": 43,
   "metadata": {},
   "outputs": [],
   "source": [
    "predict_train = clf.predict(X_train)"
   ]
  },
  {
   "cell_type": "code",
   "execution_count": 44,
   "metadata": {},
   "outputs": [
    {
     "name": "stdout",
     "output_type": "stream",
     "text": [
      "              precision    recall  f1-score   support\n",
      "\n",
      "           0       0.96      0.98      0.97       278\n",
      "           1       0.98      0.96      0.97       272\n",
      "\n",
      "    accuracy                           0.97       550\n",
      "   macro avg       0.97      0.97      0.97       550\n",
      "weighted avg       0.97      0.97      0.97       550\n",
      "\n"
     ]
    }
   ],
   "source": [
    "print(classification_report(y_train, predict_train))"
   ]
  },
  {
   "cell_type": "code",
   "execution_count": 45,
   "metadata": {},
   "outputs": [
    {
     "data": {
      "text/plain": [
       "array([[273,   5],\n",
       "       [ 11, 261]])"
      ]
     },
     "execution_count": 45,
     "metadata": {},
     "output_type": "execute_result"
    }
   ],
   "source": [
    "confusion_matrix(y_train, predict_train)"
   ]
  },
  {
   "cell_type": "code",
   "execution_count": 46,
   "metadata": {},
   "outputs": [
    {
     "data": {
      "text/plain": [
       "0.9917279411764705"
      ]
     },
     "execution_count": 46,
     "metadata": {},
     "output_type": "execute_result"
    }
   ],
   "source": [
    "scoring_train = roc_auc_score(y_train, clf.predict_proba(X_train)[:, 1])\n",
    "scoring_train "
   ]
  },
  {
   "cell_type": "code",
   "execution_count": 47,
   "metadata": {},
   "outputs": [
    {
     "name": "stdout",
     "output_type": "stream",
     "text": [
      "[0.6096302  0.60903072 0.25574327 0.16035002 0.43307763 0.54112775\n",
      " 0.46366691 0.39293192 0.68897034 0.56092808 0.54088857 0.46228845\n",
      " 0.62494907 0.3468155  0.3571752  0.58321902 0.49317725 0.65169367\n",
      " 0.25071964 0.49378813 0.48964302 0.35944117 0.38548676 0.49261634\n",
      " 0.77068829 0.56386151 0.59312013 0.59626439 0.6678831  0.39628625\n",
      " 0.28530607 0.91657526 0.12003726 0.34321495 0.45846545 0.48620642\n",
      " 0.56040512 0.52597451 0.66611375 0.652445   0.17113576 0.35721415\n",
      " 0.48202529 0.59848893 0.34404398 0.55727538 0.81696781 0.60146717\n",
      " 0.73510444 0.48664613 0.38782731 0.80749752 0.50028055 0.54260455\n",
      " 0.4194744  0.39294953 0.6168263  0.27748823 0.49670799 0.72234924\n",
      " 0.55444369 0.7303678  0.64662295 0.45336314 0.26653591 0.63319293\n",
      " 0.23300356 0.50683021 0.79424146 0.56721118 0.28819956 0.38658554\n",
      " 0.17246586 0.70753908 0.6564243  0.53408671 0.62094127 0.63162788\n",
      " 0.59460387 0.65061597 0.38812409 0.71365906 0.50131893 0.30817006\n",
      " 0.37026653 0.64111328 0.47911879 0.1035464  0.43071989 0.56814805\n",
      " 0.54320046 0.58100373 0.38993758 0.36348807 0.52868072 0.13806359\n",
      " 0.31603535 0.52056726 0.68348021 0.12761846 0.36215697 0.55504145\n",
      " 0.62212067 0.48445999 0.53321787 0.61450226 0.3872621  0.50636788\n",
      " 0.66955552 0.1462621  0.66144209 0.56865938 0.6492843  0.7248091\n",
      " 0.59212059 0.22161661 0.31365897 0.11248469 0.49147772 0.22333939\n",
      " 0.37931465 0.4117419  0.68354468 0.5297745  0.64835255 0.21771535\n",
      " 0.13977434 0.36085274 0.66639216 0.38707547 0.55979865 0.35369525\n",
      " 0.31081449 0.4369791  0.79715381 0.48857746 0.49543961 0.64286426\n",
      " 0.52395351 0.33995365 0.61954448 0.28634513 0.25091362 0.77101189\n",
      " 0.79142785 0.19627243 0.29281635 0.45333888 0.80943942 0.8538023\n",
      " 0.4717615  0.53294612 0.5336143  0.61090248 0.53020967 0.48535734\n",
      " 0.48000394 0.508241   0.5531565  0.59301129 0.72239236 0.3437862\n",
      " 0.68354468 0.49807693 0.73331532 0.73582365 0.64189225 0.62659442\n",
      " 0.64287947 0.59626439 0.78921357 0.46977107 0.67226775 0.10779377\n",
      " 0.20731431 0.30494571 0.41833621 0.66776218 0.21062524 0.60104619\n",
      " 0.58420531 0.87924943 0.52989569 0.35093486 0.66591317 0.30877425\n",
      " 0.35409687 0.86956715 0.72319911 0.35509441 0.53395742 0.86410131\n",
      " 0.49719113 0.81929612 0.26978254 0.37499441 0.425496   0.33504339\n",
      " 0.42687615 0.58114327 0.76519286 0.77417398 0.2396514  0.54227189\n",
      " 0.49891078 0.48955722 0.57604652 0.47957499 0.54919208 0.65121273\n",
      " 0.48472676 0.14736444 0.56871372 0.17925289 0.20041743 0.34132187\n",
      " 0.51995103 0.20258619 0.58675041 0.65842989 0.33269753 0.43583003\n",
      " 0.71442937 0.41999157 0.52214973 0.80282252 0.7325593  0.56749652\n",
      " 0.5656198  0.22369837 0.3903634  0.54265537 0.29694265 0.74899564\n",
      " 0.47240533 0.49796893]\n"
     ]
    }
   ],
   "source": [
    "predict_prob_train = clf.predict_proba(X_train)[:,1]\n",
    "print(predict_prob)"
   ]
  },
  {
   "cell_type": "code",
   "execution_count": 48,
   "metadata": {},
   "outputs": [
    {
     "name": "stdout",
     "output_type": "stream",
     "text": [
      "<class 'pandas.core.frame.DataFrame'>\n",
      "RangeIndex: 85576 entries, 0 to 85575\n",
      "Data columns (total 3 columns):\n",
      " #   Column            Non-Null Count  Dtype \n",
      "---  ------            --------------  ----- \n",
      " 0   content           85576 non-null  object\n",
      " 1   company_name      85576 non-null  object\n",
      " 2   publication_date  85576 non-null  object\n",
      "dtypes: object(3)\n",
      "memory usage: 2.0+ MB\n"
     ]
    }
   ],
   "source": [
    "test = pd.read_csv('alldata_202104062221.csv', sep = ';')\n",
    "test.info()"
   ]
  },
  {
   "cell_type": "code",
   "execution_count": 49,
   "metadata": {},
   "outputs": [
    {
     "data": {
      "text/html": [
       "<div>\n",
       "<style scoped>\n",
       "    .dataframe tbody tr th:only-of-type {\n",
       "        vertical-align: middle;\n",
       "    }\n",
       "\n",
       "    .dataframe tbody tr th {\n",
       "        vertical-align: top;\n",
       "    }\n",
       "\n",
       "    .dataframe thead th {\n",
       "        text-align: right;\n",
       "    }\n",
       "</style>\n",
       "<table border=\"1\" class=\"dataframe\">\n",
       "  <thead>\n",
       "    <tr style=\"text-align: right;\">\n",
       "      <th></th>\n",
       "      <th>content</th>\n",
       "      <th>company_name</th>\n",
       "      <th>publication_date</th>\n",
       "    </tr>\n",
       "  </thead>\n",
       "  <tbody>\n",
       "    <tr>\n",
       "      <th>48214</th>\n",
       "      <td>Kosztowna budowa nowych dróg</td>\n",
       "      <td>ERBUD</td>\n",
       "      <td>2011-03-02 06:27</td>\n",
       "    </tr>\n",
       "    <tr>\n",
       "      <th>84929</th>\n",
       "      <td>PGNiG jednocześnie współpracuje i spiera się z...</td>\n",
       "      <td>PGNIG</td>\n",
       "      <td>2013-06-21 05:30</td>\n",
       "    </tr>\n",
       "    <tr>\n",
       "      <th>64152</th>\n",
       "      <td>PZU ocenia, że ma około 4 mld zł nadwyżkowego ...</td>\n",
       "      <td>PZU</td>\n",
       "      <td>2013-08-27 09:22</td>\n",
       "    </tr>\n",
       "    <tr>\n",
       "      <th>13564</th>\n",
       "      <td>\"Polskie KFC\" warte więcej od Tauronu</td>\n",
       "      <td>AMREST</td>\n",
       "      <td>2016-07-25 11:50</td>\n",
       "    </tr>\n",
       "    <tr>\n",
       "      <th>50341</th>\n",
       "      <td>Średnia cena kontraktu na dostawy energii w '1...</td>\n",
       "      <td>GPW</td>\n",
       "      <td>2016-04-04 11:12</td>\n",
       "    </tr>\n",
       "    <tr>\n",
       "      <th>78457</th>\n",
       "      <td>DM BZ WBK rekomenduje \"sprzedaj\" PKN Orlen, ce...</td>\n",
       "      <td>PKNORLEN</td>\n",
       "      <td>2018-01-30 11:52</td>\n",
       "    </tr>\n",
       "    <tr>\n",
       "      <th>9636</th>\n",
       "      <td>Boryszew prowadzi kilka wstępnych rozmów ws. p...</td>\n",
       "      <td>BORYSZEW</td>\n",
       "      <td>2019-01-15 18:58</td>\n",
       "    </tr>\n",
       "    <tr>\n",
       "      <th>50262</th>\n",
       "      <td>Średnia cena kontraktu na dostawy energii w '1...</td>\n",
       "      <td>GPW</td>\n",
       "      <td>2016-11-04 08:25</td>\n",
       "    </tr>\n",
       "    <tr>\n",
       "      <th>48596</th>\n",
       "      <td>\"Podatek handlowy najbardziej uderzy w CCC i LPP\"</td>\n",
       "      <td>EUROCASH</td>\n",
       "      <td>2016-04-28 10:01</td>\n",
       "    </tr>\n",
       "    <tr>\n",
       "      <th>25915</th>\n",
       "      <td>DM BZ WBK rekomenduje \"kupuj\" Open Finance, ce...</td>\n",
       "      <td>OPENFIN</td>\n",
       "      <td>2014-06-18 14:03</td>\n",
       "    </tr>\n",
       "  </tbody>\n",
       "</table>\n",
       "</div>"
      ],
      "text/plain": [
       "                                                 content company_name  \\\n",
       "48214                       Kosztowna budowa nowych dróg        ERBUD   \n",
       "84929  PGNiG jednocześnie współpracuje i spiera się z...        PGNIG   \n",
       "64152  PZU ocenia, że ma około 4 mld zł nadwyżkowego ...          PZU   \n",
       "13564              \"Polskie KFC\" warte więcej od Tauronu       AMREST   \n",
       "50341  Średnia cena kontraktu na dostawy energii w '1...          GPW   \n",
       "78457  DM BZ WBK rekomenduje \"sprzedaj\" PKN Orlen, ce...     PKNORLEN   \n",
       "9636   Boryszew prowadzi kilka wstępnych rozmów ws. p...     BORYSZEW   \n",
       "50262  Średnia cena kontraktu na dostawy energii w '1...          GPW   \n",
       "48596  \"Podatek handlowy najbardziej uderzy w CCC i LPP\"     EUROCASH   \n",
       "25915  DM BZ WBK rekomenduje \"kupuj\" Open Finance, ce...      OPENFIN   \n",
       "\n",
       "       publication_date  \n",
       "48214  2011-03-02 06:27  \n",
       "84929  2013-06-21 05:30  \n",
       "64152  2013-08-27 09:22  \n",
       "13564  2016-07-25 11:50  \n",
       "50341  2016-04-04 11:12  \n",
       "78457  2018-01-30 11:52  \n",
       "9636   2019-01-15 18:58  \n",
       "50262  2016-11-04 08:25  \n",
       "48596  2016-04-28 10:01  \n",
       "25915  2014-06-18 14:03  "
      ]
     },
     "execution_count": 49,
     "metadata": {},
     "output_type": "execute_result"
    }
   ],
   "source": [
    "test.sample(10)"
   ]
  },
  {
   "cell_type": "code",
   "execution_count": 50,
   "metadata": {},
   "outputs": [],
   "source": [
    "test['new_text'] = test['content'].apply(clean_text)"
   ]
  },
  {
   "cell_type": "code",
   "execution_count": 51,
   "metadata": {},
   "outputs": [],
   "source": [
    "test['liststring'] = test['new_text'].apply(lambda x: ','.join(map(str, x)))"
   ]
  },
  {
   "cell_type": "code",
   "execution_count": 52,
   "metadata": {},
   "outputs": [],
   "source": [
    "test['new_text2'] = test['liststring'].str.replace('[^\\w\\s]',' ')"
   ]
  },
  {
   "cell_type": "code",
   "execution_count": 53,
   "metadata": {},
   "outputs": [
    {
     "data": {
      "text/plain": [
       "0        alt sa   1 2019   sprawozdanie rada nadzorczy ...\n",
       "1        alt sa   2 2018   sprawozdanie rada nadzorczy ...\n",
       "2        alt sa   1 2018   alt spółka akcyjny raport do...\n",
       "3        alt sa   2 2017   sprawozdanie rada nadzorczy ...\n",
       "4        alt sa   1 2017   alt spółka akcyjny raport do...\n",
       "                               ...                        \n",
       "85571    Szubsk   w 2011 r   pgnig móc sprzedać ponad 1...\n",
       "85572    sejm   lasa móc udostępnić teren operator ener...\n",
       "85573    uokik   zgoda na koncentracja spółka i wspólny...\n",
       "85574                  grupa tauron aktualizować strategia\n",
       "85575    pgnig   ure zgodzić się na obniżka cena gaz śr...\n",
       "Name: new_text2, Length: 85576, dtype: object"
      ]
     },
     "execution_count": 53,
     "metadata": {},
     "output_type": "execute_result"
    }
   ],
   "source": [
    "comments = test['new_text2']\n",
    "comments"
   ]
  },
  {
   "cell_type": "code",
   "execution_count": 54,
   "metadata": {},
   "outputs": [],
   "source": [
    "comments_vector = vectorizer.transform(comments)"
   ]
  },
  {
   "cell_type": "code",
   "execution_count": 55,
   "metadata": {},
   "outputs": [
    {
     "data": {
      "text/plain": [
       "array([0, 0, 0, ..., 1, 1, 0])"
      ]
     },
     "execution_count": 55,
     "metadata": {},
     "output_type": "execute_result"
    }
   ],
   "source": [
    "results = clf.predict(comments_vector)\n",
    "results"
   ]
  },
  {
   "cell_type": "code",
   "execution_count": 56,
   "metadata": {},
   "outputs": [
    {
     "data": {
      "text/plain": [
       "array([0.38263036, 0.38222113, 0.47124675, ..., 0.78171109, 0.69465794,\n",
       "       0.38673394])"
      ]
     },
     "execution_count": 56,
     "metadata": {},
     "output_type": "execute_result"
    }
   ],
   "source": [
    "probability = clf.predict_proba(comments_vector)[:, 1]\n",
    "probability "
   ]
  },
  {
   "cell_type": "code",
   "execution_count": 57,
   "metadata": {},
   "outputs": [],
   "source": [
    "test = test.drop('new_text', axis=1)\n",
    "test = test.drop('liststring', axis=1)\n",
    "test = test.drop('new_text2', axis=1)"
   ]
  },
  {
   "cell_type": "code",
   "execution_count": 58,
   "metadata": {},
   "outputs": [
    {
     "data": {
      "text/html": [
       "<div>\n",
       "<style scoped>\n",
       "    .dataframe tbody tr th:only-of-type {\n",
       "        vertical-align: middle;\n",
       "    }\n",
       "\n",
       "    .dataframe tbody tr th {\n",
       "        vertical-align: top;\n",
       "    }\n",
       "\n",
       "    .dataframe thead th {\n",
       "        text-align: right;\n",
       "    }\n",
       "</style>\n",
       "<table border=\"1\" class=\"dataframe\">\n",
       "  <thead>\n",
       "    <tr style=\"text-align: right;\">\n",
       "      <th></th>\n",
       "      <th>content</th>\n",
       "      <th>company_name</th>\n",
       "      <th>publication_date</th>\n",
       "      <th>results</th>\n",
       "    </tr>\n",
       "  </thead>\n",
       "  <tbody>\n",
       "    <tr>\n",
       "      <th>0</th>\n",
       "      <td>ALTA SA (1/2019) Sprawozdanie Rady Nadzorczej ...</td>\n",
       "      <td>ALTA</td>\n",
       "      <td>2019-05-09 13:56</td>\n",
       "      <td>0</td>\n",
       "    </tr>\n",
       "    <tr>\n",
       "      <th>1</th>\n",
       "      <td>ALTA SA (2/2018) Sprawozdanie Rady Nadzorczej ...</td>\n",
       "      <td>ALTA</td>\n",
       "      <td>2018-05-18 11:50</td>\n",
       "      <td>0</td>\n",
       "    </tr>\n",
       "    <tr>\n",
       "      <th>2</th>\n",
       "      <td>ALTA SA (1/2018) ALTA Spółka Akcyjna Raport do...</td>\n",
       "      <td>ALTA</td>\n",
       "      <td>2018-04-16 15:04</td>\n",
       "      <td>0</td>\n",
       "    </tr>\n",
       "    <tr>\n",
       "      <th>3</th>\n",
       "      <td>ALTA SA (2/2017) Sprawozdanie Rady Nadzorczej ...</td>\n",
       "      <td>ALTA</td>\n",
       "      <td>2017-05-24 16:04</td>\n",
       "      <td>0</td>\n",
       "    </tr>\n",
       "    <tr>\n",
       "      <th>4</th>\n",
       "      <td>ALTA SA (1/2017) ALTA Spółka Akcyjna Raport do...</td>\n",
       "      <td>ALTA</td>\n",
       "      <td>2017-04-24 17:10</td>\n",
       "      <td>1</td>\n",
       "    </tr>\n",
       "  </tbody>\n",
       "</table>\n",
       "</div>"
      ],
      "text/plain": [
       "                                             content company_name  \\\n",
       "0  ALTA SA (1/2019) Sprawozdanie Rady Nadzorczej ...         ALTA   \n",
       "1  ALTA SA (2/2018) Sprawozdanie Rady Nadzorczej ...         ALTA   \n",
       "2  ALTA SA (1/2018) ALTA Spółka Akcyjna Raport do...         ALTA   \n",
       "3  ALTA SA (2/2017) Sprawozdanie Rady Nadzorczej ...         ALTA   \n",
       "4  ALTA SA (1/2017) ALTA Spółka Akcyjna Raport do...         ALTA   \n",
       "\n",
       "   publication_date  results  \n",
       "0  2019-05-09 13:56        0  \n",
       "1  2018-05-18 11:50        0  \n",
       "2  2018-04-16 15:04        0  \n",
       "3  2017-05-24 16:04        0  \n",
       "4  2017-04-24 17:10        1  "
      ]
     },
     "execution_count": 58,
     "metadata": {},
     "output_type": "execute_result"
    }
   ],
   "source": [
    "test['results'] = results\n",
    "test.head()"
   ]
  },
  {
   "cell_type": "code",
   "execution_count": 59,
   "metadata": {},
   "outputs": [
    {
     "data": {
      "text/html": [
       "<div>\n",
       "<style scoped>\n",
       "    .dataframe tbody tr th:only-of-type {\n",
       "        vertical-align: middle;\n",
       "    }\n",
       "\n",
       "    .dataframe tbody tr th {\n",
       "        vertical-align: top;\n",
       "    }\n",
       "\n",
       "    .dataframe thead th {\n",
       "        text-align: right;\n",
       "    }\n",
       "</style>\n",
       "<table border=\"1\" class=\"dataframe\">\n",
       "  <thead>\n",
       "    <tr style=\"text-align: right;\">\n",
       "      <th></th>\n",
       "      <th>content</th>\n",
       "      <th>company_name</th>\n",
       "      <th>publication_date</th>\n",
       "      <th>results</th>\n",
       "      <th>probability</th>\n",
       "    </tr>\n",
       "  </thead>\n",
       "  <tbody>\n",
       "    <tr>\n",
       "      <th>0</th>\n",
       "      <td>ALTA SA (1/2019) Sprawozdanie Rady Nadzorczej ...</td>\n",
       "      <td>ALTA</td>\n",
       "      <td>2019-05-09 13:56</td>\n",
       "      <td>0</td>\n",
       "      <td>0.382630</td>\n",
       "    </tr>\n",
       "    <tr>\n",
       "      <th>1</th>\n",
       "      <td>ALTA SA (2/2018) Sprawozdanie Rady Nadzorczej ...</td>\n",
       "      <td>ALTA</td>\n",
       "      <td>2018-05-18 11:50</td>\n",
       "      <td>0</td>\n",
       "      <td>0.382221</td>\n",
       "    </tr>\n",
       "    <tr>\n",
       "      <th>2</th>\n",
       "      <td>ALTA SA (1/2018) ALTA Spółka Akcyjna Raport do...</td>\n",
       "      <td>ALTA</td>\n",
       "      <td>2018-04-16 15:04</td>\n",
       "      <td>0</td>\n",
       "      <td>0.471247</td>\n",
       "    </tr>\n",
       "    <tr>\n",
       "      <th>3</th>\n",
       "      <td>ALTA SA (2/2017) Sprawozdanie Rady Nadzorczej ...</td>\n",
       "      <td>ALTA</td>\n",
       "      <td>2017-05-24 16:04</td>\n",
       "      <td>0</td>\n",
       "      <td>0.443146</td>\n",
       "    </tr>\n",
       "    <tr>\n",
       "      <th>4</th>\n",
       "      <td>ALTA SA (1/2017) ALTA Spółka Akcyjna Raport do...</td>\n",
       "      <td>ALTA</td>\n",
       "      <td>2017-04-24 17:10</td>\n",
       "      <td>1</td>\n",
       "      <td>0.514730</td>\n",
       "    </tr>\n",
       "  </tbody>\n",
       "</table>\n",
       "</div>"
      ],
      "text/plain": [
       "                                             content company_name  \\\n",
       "0  ALTA SA (1/2019) Sprawozdanie Rady Nadzorczej ...         ALTA   \n",
       "1  ALTA SA (2/2018) Sprawozdanie Rady Nadzorczej ...         ALTA   \n",
       "2  ALTA SA (1/2018) ALTA Spółka Akcyjna Raport do...         ALTA   \n",
       "3  ALTA SA (2/2017) Sprawozdanie Rady Nadzorczej ...         ALTA   \n",
       "4  ALTA SA (1/2017) ALTA Spółka Akcyjna Raport do...         ALTA   \n",
       "\n",
       "   publication_date  results  probability  \n",
       "0  2019-05-09 13:56        0     0.382630  \n",
       "1  2018-05-18 11:50        0     0.382221  \n",
       "2  2018-04-16 15:04        0     0.471247  \n",
       "3  2017-05-24 16:04        0     0.443146  \n",
       "4  2017-04-24 17:10        1     0.514730  "
      ]
     },
     "execution_count": 59,
     "metadata": {},
     "output_type": "execute_result"
    }
   ],
   "source": [
    "test['probability'] = probability\n",
    "test.head()"
   ]
  },
  {
   "cell_type": "code",
   "execution_count": 60,
   "metadata": {},
   "outputs": [],
   "source": [
    "test.to_csv('nlp.csv',  sep = ';')"
   ]
  },
  {
   "cell_type": "code",
   "execution_count": 61,
   "metadata": {},
   "outputs": [
    {
     "name": "stdout",
     "output_type": "stream",
     "text": [
      "<class 'pandas.core.frame.DataFrame'>\n",
      "RangeIndex: 85576 entries, 0 to 85575\n",
      "Data columns (total 6 columns):\n",
      " #   Column            Non-Null Count  Dtype  \n",
      "---  ------            --------------  -----  \n",
      " 0   Unnamed: 0        85576 non-null  int64  \n",
      " 1   content           85576 non-null  object \n",
      " 2   company_name      85576 non-null  object \n",
      " 3   publication_date  85576 non-null  object \n",
      " 4   results           85576 non-null  int64  \n",
      " 5   probability       85576 non-null  float64\n",
      "dtypes: float64(1), int64(2), object(3)\n",
      "memory usage: 3.9+ MB\n"
     ]
    }
   ],
   "source": [
    "nlp = pd.read_csv('nlp.csv', sep = ';')\n",
    "nlp.info()"
   ]
  },
  {
   "cell_type": "code",
   "execution_count": 62,
   "metadata": {},
   "outputs": [
    {
     "data": {
      "text/html": [
       "<div>\n",
       "<style scoped>\n",
       "    .dataframe tbody tr th:only-of-type {\n",
       "        vertical-align: middle;\n",
       "    }\n",
       "\n",
       "    .dataframe tbody tr th {\n",
       "        vertical-align: top;\n",
       "    }\n",
       "\n",
       "    .dataframe thead th {\n",
       "        text-align: right;\n",
       "    }\n",
       "</style>\n",
       "<table border=\"1\" class=\"dataframe\">\n",
       "  <thead>\n",
       "    <tr style=\"text-align: right;\">\n",
       "      <th></th>\n",
       "      <th>Unnamed: 0</th>\n",
       "      <th>content</th>\n",
       "      <th>company_name</th>\n",
       "      <th>publication_date</th>\n",
       "      <th>results</th>\n",
       "      <th>probability</th>\n",
       "    </tr>\n",
       "  </thead>\n",
       "  <tbody>\n",
       "    <tr>\n",
       "      <th>0</th>\n",
       "      <td>0</td>\n",
       "      <td>ALTA SA (1/2019) Sprawozdanie Rady Nadzorczej ...</td>\n",
       "      <td>ALTA</td>\n",
       "      <td>2019-05-09 13:56</td>\n",
       "      <td>0</td>\n",
       "      <td>0.382630</td>\n",
       "    </tr>\n",
       "    <tr>\n",
       "      <th>1</th>\n",
       "      <td>1</td>\n",
       "      <td>ALTA SA (2/2018) Sprawozdanie Rady Nadzorczej ...</td>\n",
       "      <td>ALTA</td>\n",
       "      <td>2018-05-18 11:50</td>\n",
       "      <td>0</td>\n",
       "      <td>0.382221</td>\n",
       "    </tr>\n",
       "    <tr>\n",
       "      <th>2</th>\n",
       "      <td>2</td>\n",
       "      <td>ALTA SA (1/2018) ALTA Spółka Akcyjna Raport do...</td>\n",
       "      <td>ALTA</td>\n",
       "      <td>2018-04-16 15:04</td>\n",
       "      <td>0</td>\n",
       "      <td>0.471247</td>\n",
       "    </tr>\n",
       "    <tr>\n",
       "      <th>3</th>\n",
       "      <td>3</td>\n",
       "      <td>ALTA SA (2/2017) Sprawozdanie Rady Nadzorczej ...</td>\n",
       "      <td>ALTA</td>\n",
       "      <td>2017-05-24 16:04</td>\n",
       "      <td>0</td>\n",
       "      <td>0.443146</td>\n",
       "    </tr>\n",
       "    <tr>\n",
       "      <th>4</th>\n",
       "      <td>4</td>\n",
       "      <td>ALTA SA (1/2017) ALTA Spółka Akcyjna Raport do...</td>\n",
       "      <td>ALTA</td>\n",
       "      <td>2017-04-24 17:10</td>\n",
       "      <td>1</td>\n",
       "      <td>0.514730</td>\n",
       "    </tr>\n",
       "  </tbody>\n",
       "</table>\n",
       "</div>"
      ],
      "text/plain": [
       "   Unnamed: 0                                            content company_name  \\\n",
       "0           0  ALTA SA (1/2019) Sprawozdanie Rady Nadzorczej ...         ALTA   \n",
       "1           1  ALTA SA (2/2018) Sprawozdanie Rady Nadzorczej ...         ALTA   \n",
       "2           2  ALTA SA (1/2018) ALTA Spółka Akcyjna Raport do...         ALTA   \n",
       "3           3  ALTA SA (2/2017) Sprawozdanie Rady Nadzorczej ...         ALTA   \n",
       "4           4  ALTA SA (1/2017) ALTA Spółka Akcyjna Raport do...         ALTA   \n",
       "\n",
       "   publication_date  results  probability  \n",
       "0  2019-05-09 13:56        0     0.382630  \n",
       "1  2018-05-18 11:50        0     0.382221  \n",
       "2  2018-04-16 15:04        0     0.471247  \n",
       "3  2017-05-24 16:04        0     0.443146  \n",
       "4  2017-04-24 17:10        1     0.514730  "
      ]
     },
     "execution_count": 62,
     "metadata": {},
     "output_type": "execute_result"
    }
   ],
   "source": [
    "nlp.head()"
   ]
  },
  {
   "cell_type": "code",
   "execution_count": null,
   "metadata": {},
   "outputs": [],
   "source": []
  }
 ],
 "metadata": {
  "kernelspec": {
   "display_name": "Python 3",
   "language": "python",
   "name": "python3"
  },
  "language_info": {
   "codemirror_mode": {
    "name": "ipython",
    "version": 3
   },
   "file_extension": ".py",
   "mimetype": "text/x-python",
   "name": "python",
   "nbconvert_exporter": "python",
   "pygments_lexer": "ipython3",
   "version": "3.8.5"
  }
 },
 "nbformat": 4,
 "nbformat_minor": 4
}
